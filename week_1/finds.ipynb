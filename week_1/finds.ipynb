{
 "cells": [
  {
   "cell_type": "code",
   "execution_count": 19,
   "metadata": {},
   "outputs": [],
   "source": [
    "dict1={\n",
    "    \n",
    "    'time':['morning','evening','morning','evening'],\n",
    "    'weather':['sunny','rainy','sunny','sunny'],\n",
    "    'temperature':['warm','cold','moderate','cold'],\n",
    "    'company':['yes','no','yes','yes'],\n",
    "    'humidity':['mild','mild','normal','high'],\n",
    "    'wind':['strong','normal','normal','strong'],\n",
    "    'op':['yes','no','yes','yes']\n",
    "}"
   ]
  },
  {
   "cell_type": "code",
   "execution_count": 20,
   "metadata": {},
   "outputs": [
    {
     "data": {
      "text/html": [
       "<div>\n",
       "<style scoped>\n",
       "    .dataframe tbody tr th:only-of-type {\n",
       "        vertical-align: middle;\n",
       "    }\n",
       "\n",
       "    .dataframe tbody tr th {\n",
       "        vertical-align: top;\n",
       "    }\n",
       "\n",
       "    .dataframe thead th {\n",
       "        text-align: right;\n",
       "    }\n",
       "</style>\n",
       "<table border=\"1\" class=\"dataframe\">\n",
       "  <thead>\n",
       "    <tr style=\"text-align: right;\">\n",
       "      <th></th>\n",
       "      <th>time</th>\n",
       "      <th>weather</th>\n",
       "      <th>temperature</th>\n",
       "      <th>company</th>\n",
       "      <th>humidity</th>\n",
       "      <th>wind</th>\n",
       "      <th>op</th>\n",
       "    </tr>\n",
       "  </thead>\n",
       "  <tbody>\n",
       "    <tr>\n",
       "      <th>0</th>\n",
       "      <td>morning</td>\n",
       "      <td>sunny</td>\n",
       "      <td>warm</td>\n",
       "      <td>yes</td>\n",
       "      <td>mild</td>\n",
       "      <td>strong</td>\n",
       "      <td>yes</td>\n",
       "    </tr>\n",
       "    <tr>\n",
       "      <th>1</th>\n",
       "      <td>evening</td>\n",
       "      <td>rainy</td>\n",
       "      <td>cold</td>\n",
       "      <td>no</td>\n",
       "      <td>mild</td>\n",
       "      <td>normal</td>\n",
       "      <td>no</td>\n",
       "    </tr>\n",
       "    <tr>\n",
       "      <th>2</th>\n",
       "      <td>morning</td>\n",
       "      <td>sunny</td>\n",
       "      <td>moderate</td>\n",
       "      <td>yes</td>\n",
       "      <td>normal</td>\n",
       "      <td>normal</td>\n",
       "      <td>yes</td>\n",
       "    </tr>\n",
       "    <tr>\n",
       "      <th>3</th>\n",
       "      <td>evening</td>\n",
       "      <td>sunny</td>\n",
       "      <td>cold</td>\n",
       "      <td>yes</td>\n",
       "      <td>high</td>\n",
       "      <td>strong</td>\n",
       "      <td>yes</td>\n",
       "    </tr>\n",
       "  </tbody>\n",
       "</table>\n",
       "</div>"
      ],
      "text/plain": [
       "      time weather temperature company humidity    wind   op\n",
       "0  morning   sunny        warm     yes     mild  strong  yes\n",
       "1  evening   rainy        cold      no     mild  normal   no\n",
       "2  morning   sunny    moderate     yes   normal  normal  yes\n",
       "3  evening   sunny        cold     yes     high  strong  yes"
      ]
     },
     "execution_count": 20,
     "metadata": {},
     "output_type": "execute_result"
    }
   ],
   "source": [
    "import pandas as pd\n",
    "import numpy as np\n",
    "df=pd.DataFrame(dict1)\n",
    "df"
   ]
  },
  {
   "cell_type": "code",
   "execution_count": 22,
   "metadata": {},
   "outputs": [
    {
     "data": {
      "text/plain": [
       "array([['morning', 'sunny', 'warm', 'yes', 'mild', 'strong'],\n",
       "       ['evening', 'rainy', 'cold', 'no', 'mild', 'normal'],\n",
       "       ['morning', 'sunny', 'moderate', 'yes', 'normal', 'normal'],\n",
       "       ['evening', 'sunny', 'cold', 'yes', 'high', 'strong']],\n",
       "      dtype=object)"
      ]
     },
     "execution_count": 22,
     "metadata": {},
     "output_type": "execute_result"
    }
   ],
   "source": [
    "#remove op\n",
    "d=np.array(df)[:,: -1]\n",
    "d"
   ]
  },
  {
   "cell_type": "code",
   "execution_count": 23,
   "metadata": {},
   "outputs": [
    {
     "data": {
      "text/plain": [
       "array(['yes', 'no', 'yes', 'yes'], dtype=object)"
      ]
     },
     "execution_count": 23,
     "metadata": {},
     "output_type": "execute_result"
    }
   ],
   "source": [
    "target=np.array(df['op'])\n",
    "target"
   ]
  },
  {
   "cell_type": "code",
   "execution_count": 24,
   "metadata": {},
   "outputs": [
    {
     "data": {
      "text/plain": [
       "array(['yes', 'no', 'yes', 'yes'], dtype=object)"
      ]
     },
     "execution_count": 24,
     "metadata": {},
     "output_type": "execute_result"
    }
   ],
   "source": [
    "target = np.array(df)[:,-1]\n",
    "target"
   ]
  },
  {
   "cell_type": "code",
   "execution_count": 33,
   "metadata": {},
   "outputs": [],
   "source": [
    "def train(c,t):\n",
    "    for i,val in enumerate(t):\n",
    "        if val=='yes':\n",
    "            specific_hypothesis=c[i].copy()\n",
    "    for i,val in enumerate(c):\n",
    "        print('values',val)\n",
    "        if t[i]=='yes':\n",
    "            for x in range(len(specific_hypothesis)):\n",
    "                if val[x] != specific_hypothesis[x]:\n",
    "                    specific_hypothesis[x] = '?'\n",
    "                else:\n",
    "                    pass\n",
    "    return specific_hypothesis\n"
   ]
  },
  {
   "cell_type": "code",
   "execution_count": 34,
   "metadata": {},
   "outputs": [
    {
     "name": "stdout",
     "output_type": "stream",
     "text": [
      "values ['morning' 'sunny' 'warm' 'yes' 'mild' 'strong']\n",
      "values ['evening' 'rainy' 'cold' 'no' 'mild' 'normal']\n",
      "values ['morning' 'sunny' 'moderate' 'yes' 'normal' 'normal']\n",
      "values ['evening' 'sunny' 'cold' 'yes' 'high' 'strong']\n"
     ]
    },
    {
     "data": {
      "text/plain": [
       "array(['?', 'sunny', '?', 'yes', '?', '?'], dtype=object)"
      ]
     },
     "execution_count": 34,
     "metadata": {},
     "output_type": "execute_result"
    }
   ],
   "source": [
    "train(d,target)"
   ]
  },
  {
   "cell_type": "code",
   "execution_count": null,
   "metadata": {},
   "outputs": [],
   "source": []
  }
 ],
 "metadata": {
  "kernelspec": {
   "display_name": "base",
   "language": "python",
   "name": "python3"
  },
  "language_info": {
   "codemirror_mode": {
    "name": "ipython",
    "version": 3
   },
   "file_extension": ".py",
   "mimetype": "text/x-python",
   "name": "python",
   "nbconvert_exporter": "python",
   "pygments_lexer": "ipython3",
   "version": "3.11.5"
  }
 },
 "nbformat": 4,
 "nbformat_minor": 2
}
